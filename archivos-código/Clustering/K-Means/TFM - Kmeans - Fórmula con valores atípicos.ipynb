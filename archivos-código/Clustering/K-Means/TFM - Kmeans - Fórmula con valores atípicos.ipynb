{
 "cells": [
  {
   "cell_type": "code",
   "execution_count": 1,
   "id": "8efbed95",
   "metadata": {},
   "outputs": [],
   "source": [
    "import os\n",
    "os.chdir(\"D://Master//10. TFM//Data\")"
   ]
  },
  {
   "cell_type": "code",
   "execution_count": 2,
   "id": "b7d0968e",
   "metadata": {},
   "outputs": [],
   "source": [
    "import pandas as pd\n",
    "import numpy as np\n",
    "from sklearn.preprocessing import LabelEncoder, StandardScaler\n",
    "import matplotlib.pyplot as plt\n",
    "import seaborn as sns\n",
    "from sklearn.preprocessing import MinMaxScaler\n",
    "from sklearn.decomposition import PCA\n",
    "from scipy.stats import boxcox, probplot, norm, shapiro\n",
    "from sklearn.preprocessing import PowerTransformer, MinMaxScaler\n",
    "from sklearn.cluster import KMeans, AffinityPropagation, DBSCAN\n",
    "import warnings\n",
    "warnings.filterwarnings('ignore')\n",
    "from scipy.stats import shapiro, probplot\n",
    "import statsmodels.api as sm\n",
    "from mpl_toolkits.mplot3d import Axes3D\n",
    "from pyclustering.cluster.kmedians import kmedians\n",
    "from pyclustering.cluster.center_initializer import kmeans_plusplus_initializer\n",
    "from pyclustering.cluster import cluster_visualizer\n",
    "from sklearn.cluster import AgglomerativeClustering\n",
    "import scipy.cluster.hierarchy as sch\n",
    "from scipy.cluster.hierarchy import dendrogram, linkage\n",
    "from sklearn.model_selection import train_test_split\n",
    "from mpl_toolkits.mplot3d import Axes3D\n",
    "from sklearn.datasets import make_blobs\n",
    "from sklearn.cluster import AgglomerativeClustering\n",
    "from sklearn.preprocessing import scale\n",
    "from sklearn.metrics import silhouette_score\n",
    "import numpy as np\n",
    "from scipy.cluster import hierarchy\n",
    "import matplotlib.pyplot as plt\n",
    "from sklearn.preprocessing import RobustScaler\n",
    "from sklearn.metrics import davies_bouldin_score"
   ]
  },
  {
   "cell_type": "code",
   "execution_count": 3,
   "id": "69a176a1",
   "metadata": {
    "scrolled": true
   },
   "outputs": [
    {
     "data": {
      "text/html": [
       "<div>\n",
       "<style scoped>\n",
       "    .dataframe tbody tr th:only-of-type {\n",
       "        vertical-align: middle;\n",
       "    }\n",
       "\n",
       "    .dataframe tbody tr th {\n",
       "        vertical-align: top;\n",
       "    }\n",
       "\n",
       "    .dataframe thead th {\n",
       "        text-align: right;\n",
       "    }\n",
       "</style>\n",
       "<table border=\"1\" class=\"dataframe\">\n",
       "  <thead>\n",
       "    <tr style=\"text-align: right;\">\n",
       "      <th></th>\n",
       "      <th>price</th>\n",
       "      <th>review_score</th>\n",
       "      <th>year</th>\n",
       "      <th>month</th>\n",
       "      <th>day_of_week</th>\n",
       "      <th>city_belo horizonte</th>\n",
       "      <th>city_brasilia</th>\n",
       "      <th>city_campinas</th>\n",
       "      <th>city_curitiba</th>\n",
       "      <th>city_guarulhos</th>\n",
       "      <th>...</th>\n",
       "      <th>category_moveis_decoracao</th>\n",
       "      <th>category_otras categorias</th>\n",
       "      <th>category_relogios_presentes</th>\n",
       "      <th>category_telefonia</th>\n",
       "      <th>category_utilidades_domesticas</th>\n",
       "      <th>payment_boleto</th>\n",
       "      <th>payment_credit_card</th>\n",
       "      <th>payment_debit_card</th>\n",
       "      <th>payment_varios</th>\n",
       "      <th>payment_voucher</th>\n",
       "    </tr>\n",
       "  </thead>\n",
       "  <tbody>\n",
       "    <tr>\n",
       "      <th>0</th>\n",
       "      <td>-0.338623</td>\n",
       "      <td>0.696347</td>\n",
       "      <td>-1.076442</td>\n",
       "      <td>0.920661</td>\n",
       "      <td>-0.380505</td>\n",
       "      <td>-0.169550</td>\n",
       "      <td>-0.147871</td>\n",
       "      <td>-0.121872</td>\n",
       "      <td>-0.12604</td>\n",
       "      <td>-0.108938</td>\n",
       "      <td>...</td>\n",
       "      <td>-0.285139</td>\n",
       "      <td>1.35068</td>\n",
       "      <td>-0.238266</td>\n",
       "      <td>-0.206148</td>\n",
       "      <td>-0.258609</td>\n",
       "      <td>-0.504953</td>\n",
       "      <td>0.589342</td>\n",
       "      <td>-0.12339</td>\n",
       "      <td>-0.172902</td>\n",
       "      <td>-0.10346</td>\n",
       "    </tr>\n",
       "    <tr>\n",
       "      <th>1</th>\n",
       "      <td>-0.355113</td>\n",
       "      <td>0.696347</td>\n",
       "      <td>-1.076442</td>\n",
       "      <td>-0.009442</td>\n",
       "      <td>-0.380505</td>\n",
       "      <td>-0.169550</td>\n",
       "      <td>-0.147871</td>\n",
       "      <td>-0.121872</td>\n",
       "      <td>-0.12604</td>\n",
       "      <td>-0.108938</td>\n",
       "      <td>...</td>\n",
       "      <td>-0.285139</td>\n",
       "      <td>1.35068</td>\n",
       "      <td>-0.238266</td>\n",
       "      <td>-0.206148</td>\n",
       "      <td>-0.258609</td>\n",
       "      <td>1.980364</td>\n",
       "      <td>-1.696793</td>\n",
       "      <td>-0.12339</td>\n",
       "      <td>-0.172902</td>\n",
       "      <td>-0.10346</td>\n",
       "    </tr>\n",
       "    <tr>\n",
       "      <th>2</th>\n",
       "      <td>-0.305641</td>\n",
       "      <td>-0.025469</td>\n",
       "      <td>0.905068</td>\n",
       "      <td>-0.319476</td>\n",
       "      <td>0.638195</td>\n",
       "      <td>5.897921</td>\n",
       "      <td>-0.147871</td>\n",
       "      <td>-0.121872</td>\n",
       "      <td>-0.12604</td>\n",
       "      <td>-0.108938</td>\n",
       "      <td>...</td>\n",
       "      <td>-0.285139</td>\n",
       "      <td>1.35068</td>\n",
       "      <td>-0.238266</td>\n",
       "      <td>-0.206148</td>\n",
       "      <td>-0.258609</td>\n",
       "      <td>-0.504953</td>\n",
       "      <td>0.589342</td>\n",
       "      <td>-0.12339</td>\n",
       "      <td>-0.172902</td>\n",
       "      <td>-0.10346</td>\n",
       "    </tr>\n",
       "    <tr>\n",
       "      <th>3</th>\n",
       "      <td>-0.338623</td>\n",
       "      <td>0.696347</td>\n",
       "      <td>-1.076442</td>\n",
       "      <td>0.610627</td>\n",
       "      <td>-0.889856</td>\n",
       "      <td>-0.169550</td>\n",
       "      <td>-0.147871</td>\n",
       "      <td>-0.121872</td>\n",
       "      <td>-0.12604</td>\n",
       "      <td>-0.108938</td>\n",
       "      <td>...</td>\n",
       "      <td>-0.285139</td>\n",
       "      <td>1.35068</td>\n",
       "      <td>-0.238266</td>\n",
       "      <td>-0.206148</td>\n",
       "      <td>-0.258609</td>\n",
       "      <td>-0.504953</td>\n",
       "      <td>0.589342</td>\n",
       "      <td>-0.12339</td>\n",
       "      <td>-0.172902</td>\n",
       "      <td>-0.10346</td>\n",
       "    </tr>\n",
       "    <tr>\n",
       "      <th>4</th>\n",
       "      <td>-0.338623</td>\n",
       "      <td>0.696347</td>\n",
       "      <td>-1.076442</td>\n",
       "      <td>0.610627</td>\n",
       "      <td>0.128845</td>\n",
       "      <td>-0.169550</td>\n",
       "      <td>-0.147871</td>\n",
       "      <td>-0.121872</td>\n",
       "      <td>-0.12604</td>\n",
       "      <td>-0.108938</td>\n",
       "      <td>...</td>\n",
       "      <td>-0.285139</td>\n",
       "      <td>1.35068</td>\n",
       "      <td>-0.238266</td>\n",
       "      <td>-0.206148</td>\n",
       "      <td>-0.258609</td>\n",
       "      <td>-0.504953</td>\n",
       "      <td>0.589342</td>\n",
       "      <td>-0.12339</td>\n",
       "      <td>-0.172902</td>\n",
       "      <td>-0.10346</td>\n",
       "    </tr>\n",
       "  </tbody>\n",
       "</table>\n",
       "<p>5 rows × 59 columns</p>\n",
       "</div>"
      ],
      "text/plain": [
       "      price  review_score      year     month  day_of_week  \\\n",
       "0 -0.338623      0.696347 -1.076442  0.920661    -0.380505   \n",
       "1 -0.355113      0.696347 -1.076442 -0.009442    -0.380505   \n",
       "2 -0.305641     -0.025469  0.905068 -0.319476     0.638195   \n",
       "3 -0.338623      0.696347 -1.076442  0.610627    -0.889856   \n",
       "4 -0.338623      0.696347 -1.076442  0.610627     0.128845   \n",
       "\n",
       "   city_belo horizonte  city_brasilia  city_campinas  city_curitiba  \\\n",
       "0            -0.169550      -0.147871      -0.121872       -0.12604   \n",
       "1            -0.169550      -0.147871      -0.121872       -0.12604   \n",
       "2             5.897921      -0.147871      -0.121872       -0.12604   \n",
       "3            -0.169550      -0.147871      -0.121872       -0.12604   \n",
       "4            -0.169550      -0.147871      -0.121872       -0.12604   \n",
       "\n",
       "   city_guarulhos  ...  category_moveis_decoracao  category_otras categorias  \\\n",
       "0       -0.108938  ...                  -0.285139                    1.35068   \n",
       "1       -0.108938  ...                  -0.285139                    1.35068   \n",
       "2       -0.108938  ...                  -0.285139                    1.35068   \n",
       "3       -0.108938  ...                  -0.285139                    1.35068   \n",
       "4       -0.108938  ...                  -0.285139                    1.35068   \n",
       "\n",
       "   category_relogios_presentes  category_telefonia  \\\n",
       "0                    -0.238266           -0.206148   \n",
       "1                    -0.238266           -0.206148   \n",
       "2                    -0.238266           -0.206148   \n",
       "3                    -0.238266           -0.206148   \n",
       "4                    -0.238266           -0.206148   \n",
       "\n",
       "   category_utilidades_domesticas  payment_boleto  payment_credit_card  \\\n",
       "0                       -0.258609       -0.504953             0.589342   \n",
       "1                       -0.258609        1.980364            -1.696793   \n",
       "2                       -0.258609       -0.504953             0.589342   \n",
       "3                       -0.258609       -0.504953             0.589342   \n",
       "4                       -0.258609       -0.504953             0.589342   \n",
       "\n",
       "   payment_debit_card  payment_varios  payment_voucher  \n",
       "0            -0.12339       -0.172902         -0.10346  \n",
       "1            -0.12339       -0.172902         -0.10346  \n",
       "2            -0.12339       -0.172902         -0.10346  \n",
       "3            -0.12339       -0.172902         -0.10346  \n",
       "4            -0.12339       -0.172902         -0.10346  \n",
       "\n",
       "[5 rows x 59 columns]"
      ]
     },
     "execution_count": 3,
     "metadata": {},
     "output_type": "execute_result"
    }
   ],
   "source": [
    "df = pd.read_csv(\"df_formula_va.csv\")\n",
    "df.head()"
   ]
  },
  {
   "cell_type": "markdown",
   "id": "81573175",
   "metadata": {},
   "source": [
    "Eliminamos la variable unnamed que se ha generado con el csv y la variable customer_zip_code_prefix que, siendo categórica, presenta muchos valores distintos y puede perjudicar la calidad de los resultados."
   ]
  },
  {
   "cell_type": "markdown",
   "id": "3d33ebc5",
   "metadata": {},
   "source": [
    "### Prueba del codo y K-Means"
   ]
  },
  {
   "cell_type": "code",
   "execution_count": 4,
   "id": "3a353ed0",
   "metadata": {},
   "outputs": [],
   "source": [
    "cluster_range = range(1,20)\n",
    "cluster_wss=[] \n",
    "for cluster in cluster_range:\n",
    "    model = KMeans(cluster)\n",
    "    model.fit(df)\n",
    "    cluster_wss.append(model.inertia_)"
   ]
  },
  {
   "cell_type": "code",
   "execution_count": 5,
   "id": "f48bfab0",
   "metadata": {},
   "outputs": [
    {
     "data": {
      "image/png": "[encoded data removed]",
      "text/plain": [
       "<Figure size 2000x600 with 1 Axes>"
      ]
     },
     "metadata": {},
     "output_type": "display_data"
    }
   ],
   "source": [
    "plt.figure(figsize=[20,6])\n",
    "plt.title('Curva WSS para encontrar el valor óptimo de clústers o grupos')\n",
    "plt.xlabel('# grupos')\n",
    "plt.ylabel('WSS')\n",
    "plt.plot(list(cluster_range),cluster_wss,marker='o')\n",
    "plt.show()"
   ]
  },
  {
   "cell_type": "markdown",
   "id": "4721e7e1",
   "metadata": {},
   "source": [
    "Elegimos k=2 al ser el punto en el que parece estabilizarse la caída de la curva"
   ]
  },
  {
   "cell_type": "code",
   "execution_count": 6,
   "id": "3aae45f7",
   "metadata": {},
   "outputs": [
    {
     "data": {
      "text/html": [
       "<style>#sk-container-id-1 {color: black;background-color: white;}#sk-container-id-1 pre{padding: 0;}#sk-container-id-1 div.sk-toggleable {background-color: white;}#sk-container-id-1 label.sk-toggleable__label {cursor: pointer;display: block;width: 100%;margin-bottom: 0;padding: 0.3em;box-sizing: border-box;text-align: center;}#sk-container-id-1 label.sk-toggleable__label-arrow:before {content: \"▸\";float: left;margin-right: 0.25em;color: #696969;}#sk-container-id-1 label.sk-toggleable__label-arrow:hover:before {color: black;}#sk-container-id-1 div.sk-estimator:hover label.sk-toggleable__label-arrow:before {color: black;}#sk-container-id-1 div.sk-toggleable__content {max-height: 0;max-width: 0;overflow: hidden;text-align: left;background-color: #f0f8ff;}#sk-container-id-1 div.sk-toggleable__content pre {margin: 0.2em;color: black;border-radius: 0.25em;background-color: #f0f8ff;}#sk-container-id-1 input.sk-toggleable__control:checked~div.sk-toggleable__content {max-height: 200px;max-width: 100%;overflow: auto;}#sk-container-id-1 input.sk-toggleable__control:checked~label.sk-toggleable__label-arrow:before {content: \"▾\";}#sk-container-id-1 div.sk-estimator input.sk-toggleable__control:checked~label.sk-toggleable__label {background-color: #d4ebff;}#sk-container-id-1 div.sk-label input.sk-toggleable__control:checked~label.sk-toggleable__label {background-color: #d4ebff;}#sk-container-id-1 input.sk-hidden--visually {border: 0;clip: rect(1px 1px 1px 1px);clip: rect(1px, 1px, 1px, 1px);height: 1px;margin: -1px;overflow: hidden;padding: 0;position: absolute;width: 1px;}#sk-container-id-1 div.sk-estimator {font-family: monospace;background-color: #f0f8ff;border: 1px dotted black;border-radius: 0.25em;box-sizing: border-box;margin-bottom: 0.5em;}#sk-container-id-1 div.sk-estimator:hover {background-color: #d4ebff;}#sk-container-id-1 div.sk-parallel-item::after {content: \"\";width: 100%;border-bottom: 1px solid gray;flex-grow: 1;}#sk-container-id-1 div.sk-label:hover label.sk-toggleable__label {background-color: #d4ebff;}#sk-container-id-1 div.sk-serial::before {content: \"\";position: absolute;border-left: 1px solid gray;box-sizing: border-box;top: 0;bottom: 0;left: 50%;z-index: 0;}#sk-container-id-1 div.sk-serial {display: flex;flex-direction: column;align-items: center;background-color: white;padding-right: 0.2em;padding-left: 0.2em;position: relative;}#sk-container-id-1 div.sk-item {position: relative;z-index: 1;}#sk-container-id-1 div.sk-parallel {display: flex;align-items: stretch;justify-content: center;background-color: white;position: relative;}#sk-container-id-1 div.sk-item::before, #sk-container-id-1 div.sk-parallel-item::before {content: \"\";position: absolute;border-left: 1px solid gray;box-sizing: border-box;top: 0;bottom: 0;left: 50%;z-index: -1;}#sk-container-id-1 div.sk-parallel-item {display: flex;flex-direction: column;z-index: 1;position: relative;background-color: white;}#sk-container-id-1 div.sk-parallel-item:first-child::after {align-self: flex-end;width: 50%;}#sk-container-id-1 div.sk-parallel-item:last-child::after {align-self: flex-start;width: 50%;}#sk-container-id-1 div.sk-parallel-item:only-child::after {width: 0;}#sk-container-id-1 div.sk-dashed-wrapped {border: 1px dashed gray;margin: 0 0.4em 0.5em 0.4em;box-sizing: border-box;padding-bottom: 0.4em;background-color: white;}#sk-container-id-1 div.sk-label label {font-family: monospace;font-weight: bold;display: inline-block;line-height: 1.2em;}#sk-container-id-1 div.sk-label-container {text-align: center;}#sk-container-id-1 div.sk-container {/* jupyter's `normalize.less` sets `[hidden] { display: none; }` but bootstrap.min.css set `[hidden] { display: none !important; }` so we also need the `!important` here to be able to override the default hidden behavior on the sphinx rendered scikit-learn.org. See: https://github.com/scikit-learn/scikit-learn/issues/21755 */display: inline-block !important;position: relative;}#sk-container-id-1 div.sk-text-repr-fallback {display: none;}</style><div id=\"sk-container-id-1\" class=\"sk-top-container\"><div class=\"sk-text-repr-fallback\"><pre>KMeans(n_clusters=2, random_state=0)</pre><b>In a Jupyter environment, please rerun this cell to show the HTML representation or trust the notebook. <br />On GitHub, the HTML representation is unable to render, please try loading this page with nbviewer.org.</b></div><div class=\"sk-container\" hidden><div class=\"sk-item\"><div class=\"sk-estimator sk-toggleable\"><input class=\"sk-toggleable__control sk-hidden--visually\" id=\"sk-estimator-id-1\" type=\"checkbox\" checked><label for=\"sk-estimator-id-1\" class=\"sk-toggleable__label sk-toggleable__label-arrow\">KMeans</label><div class=\"sk-toggleable__content\"><pre>KMeans(n_clusters=2, random_state=0)</pre></div></div></div></div></div>"
      ],
      "text/plain": [
       "KMeans(n_clusters=2, random_state=0)"
      ]
     },
     "execution_count": 6,
     "metadata": {},
     "output_type": "execute_result"
    }
   ],
   "source": [
    "model = KMeans(n_clusters=2,random_state=0)\n",
    "model.fit(df)"
   ]
  },
  {
   "cell_type": "code",
   "execution_count": 7,
   "id": "857a0000",
   "metadata": {},
   "outputs": [],
   "source": [
    "labels = model.labels_"
   ]
  },
  {
   "cell_type": "code",
   "execution_count": 8,
   "id": "1b15059a",
   "metadata": {
    "scrolled": true
   },
   "outputs": [
    {
     "data": {
      "text/html": [
       "<div>\n",
       "<style scoped>\n",
       "    .dataframe tbody tr th:only-of-type {\n",
       "        vertical-align: middle;\n",
       "    }\n",
       "\n",
       "    .dataframe tbody tr th {\n",
       "        vertical-align: top;\n",
       "    }\n",
       "\n",
       "    .dataframe thead th {\n",
       "        text-align: right;\n",
       "    }\n",
       "</style>\n",
       "<table border=\"1\" class=\"dataframe\">\n",
       "  <thead>\n",
       "    <tr style=\"text-align: right;\">\n",
       "      <th></th>\n",
       "      <th>price</th>\n",
       "      <th>review_score</th>\n",
       "      <th>year</th>\n",
       "      <th>month</th>\n",
       "      <th>day_of_week</th>\n",
       "      <th>city_belo horizonte</th>\n",
       "      <th>city_brasilia</th>\n",
       "      <th>city_campinas</th>\n",
       "      <th>city_curitiba</th>\n",
       "      <th>city_guarulhos</th>\n",
       "      <th>...</th>\n",
       "      <th>category_otras categorias</th>\n",
       "      <th>category_relogios_presentes</th>\n",
       "      <th>category_telefonia</th>\n",
       "      <th>category_utilidades_domesticas</th>\n",
       "      <th>payment_boleto</th>\n",
       "      <th>payment_credit_card</th>\n",
       "      <th>payment_debit_card</th>\n",
       "      <th>payment_varios</th>\n",
       "      <th>payment_voucher</th>\n",
       "      <th>cluster</th>\n",
       "    </tr>\n",
       "  </thead>\n",
       "  <tbody>\n",
       "    <tr>\n",
       "      <th>0</th>\n",
       "      <td>-0.338623</td>\n",
       "      <td>0.696347</td>\n",
       "      <td>-1.076442</td>\n",
       "      <td>0.920661</td>\n",
       "      <td>-0.380505</td>\n",
       "      <td>-0.16955</td>\n",
       "      <td>-0.147871</td>\n",
       "      <td>-0.121872</td>\n",
       "      <td>-0.12604</td>\n",
       "      <td>-0.108938</td>\n",
       "      <td>...</td>\n",
       "      <td>1.35068</td>\n",
       "      <td>-0.238266</td>\n",
       "      <td>-0.206148</td>\n",
       "      <td>-0.258609</td>\n",
       "      <td>-0.504953</td>\n",
       "      <td>0.589342</td>\n",
       "      <td>-0.12339</td>\n",
       "      <td>-0.172902</td>\n",
       "      <td>-0.10346</td>\n",
       "      <td>0</td>\n",
       "    </tr>\n",
       "    <tr>\n",
       "      <th>1</th>\n",
       "      <td>-0.355113</td>\n",
       "      <td>0.696347</td>\n",
       "      <td>-1.076442</td>\n",
       "      <td>-0.009442</td>\n",
       "      <td>-0.380505</td>\n",
       "      <td>-0.16955</td>\n",
       "      <td>-0.147871</td>\n",
       "      <td>-0.121872</td>\n",
       "      <td>-0.12604</td>\n",
       "      <td>-0.108938</td>\n",
       "      <td>...</td>\n",
       "      <td>1.35068</td>\n",
       "      <td>-0.238266</td>\n",
       "      <td>-0.206148</td>\n",
       "      <td>-0.258609</td>\n",
       "      <td>1.980364</td>\n",
       "      <td>-1.696793</td>\n",
       "      <td>-0.12339</td>\n",
       "      <td>-0.172902</td>\n",
       "      <td>-0.10346</td>\n",
       "      <td>0</td>\n",
       "    </tr>\n",
       "  </tbody>\n",
       "</table>\n",
       "<p>2 rows × 60 columns</p>\n",
       "</div>"
      ],
      "text/plain": [
       "      price  review_score      year     month  day_of_week  \\\n",
       "0 -0.338623      0.696347 -1.076442  0.920661    -0.380505   \n",
       "1 -0.355113      0.696347 -1.076442 -0.009442    -0.380505   \n",
       "\n",
       "   city_belo horizonte  city_brasilia  city_campinas  city_curitiba  \\\n",
       "0             -0.16955      -0.147871      -0.121872       -0.12604   \n",
       "1             -0.16955      -0.147871      -0.121872       -0.12604   \n",
       "\n",
       "   city_guarulhos  ...  category_otras categorias  \\\n",
       "0       -0.108938  ...                    1.35068   \n",
       "1       -0.108938  ...                    1.35068   \n",
       "\n",
       "   category_relogios_presentes  category_telefonia  \\\n",
       "0                    -0.238266           -0.206148   \n",
       "1                    -0.238266           -0.206148   \n",
       "\n",
       "   category_utilidades_domesticas  payment_boleto  payment_credit_card  \\\n",
       "0                       -0.258609       -0.504953             0.589342   \n",
       "1                       -0.258609        1.980364            -1.696793   \n",
       "\n",
       "   payment_debit_card  payment_varios  payment_voucher  cluster  \n",
       "0            -0.12339       -0.172902         -0.10346        0  \n",
       "1            -0.12339       -0.172902         -0.10346        0  \n",
       "\n",
       "[2 rows x 60 columns]"
      ]
     },
     "execution_count": 8,
     "metadata": {},
     "output_type": "execute_result"
    }
   ],
   "source": [
    "# Dataframe con variables originales y la predicción\n",
    "df_total = df.copy()\n",
    "df_total['cluster']=model.predict(df)\n",
    "df_total[:2]"
   ]
  },
  {
   "cell_type": "code",
   "execution_count": 9,
   "id": "4fa340ad",
   "metadata": {
    "scrolled": true
   },
   "outputs": [
    {
     "data": {
      "image/png": "[encoded data removed]",
      "text/plain": [
       "<Figure size 1000x400 with 1 Axes>"
      ]
     },
     "metadata": {},
     "output_type": "display_data"
    }
   ],
   "source": [
    "df_total.cluster.value_counts().plot(kind='bar', figsize=(10,4))\n",
    "plt.title('Recuento de pedidos por grupo')\n",
    "plt.xlabel('Grupo')\n",
    "_ = plt.ylabel('Recuento')"
   ]
  },
  {
   "cell_type": "code",
   "execution_count": null,
   "id": "33b18636",
   "metadata": {},
   "outputs": [],
   "source": [
    "from sklearn.metrics import silhouette_score\n",
    "silhouette_avg = silhouette_score(df, labels)"
   ]
  },
  {
   "cell_type": "code",
   "execution_count": null,
   "id": "fcac0992",
   "metadata": {
    "scrolled": true
   },
   "outputs": [],
   "source": [
    "silhouette_avg"
   ]
  },
  {
   "cell_type": "code",
   "execution_count": null,
   "id": "d91b6421",
   "metadata": {},
   "outputs": [],
   "source": [
    "davies_bouldin_score(df, labels)"
   ]
  },
  {
   "cell_type": "code",
   "execution_count": null,
   "id": "512a7e9c",
   "metadata": {},
   "outputs": [],
   "source": [
    "from sklearn.metrics import calinski_harabasz_score\n",
    "calinski_harabasz_score = calinski_harabasz_score(df,labels)\n"
   ]
  },
  {
   "cell_type": "code",
   "execution_count": null,
   "id": "5ced5817",
   "metadata": {},
   "outputs": [],
   "source": [
    "print(\"Índice de Calinski-Harabasz:\", calinski_harabasz_score)"
   ]
  },
  {
   "cell_type": "code",
   "execution_count": null,
   "id": "92b962d5",
   "metadata": {},
   "outputs": [],
   "source": [
    "kmeans = KMeans(n_clusters=2)\n",
    "kmeans.fit(df)\n",
    "inertia = kmeans.inertia_\n",
    "inertia"
   ]
  },
  {
   "cell_type": "code",
   "execution_count": null,
   "id": "7cff417d",
   "metadata": {
    "scrolled": true
   },
   "outputs": [],
   "source": [
    "# Dataframe con las medias de las variables en cada uno de los grupos\n",
    "descriptivos_grupos = df_total.groupby(['cluster'],as_index=False).mean()\n",
    "descriptivos_grupos"
   ]
  },
  {
   "cell_type": "markdown",
   "id": "532cf01d",
   "metadata": {},
   "source": [
    "### Análisis de componentes principales"
   ]
  },
  {
   "cell_type": "code",
   "execution_count": null,
   "id": "3a632d78",
   "metadata": {},
   "outputs": [],
   "source": [
    "pca2 = PCA(n_components=2)\n",
    "pc = pca2.fit_transform(df)\n",
    "pc_df = pd.DataFrame(pc)\n",
    "pca = pd.concat([pc_df, df_total['cluster']],axis=1)\n",
    "pca.columns = ['pc1','pc2','cluster']\n",
    "pca[:6]"
   ]
  },
  {
   "cell_type": "code",
   "execution_count": null,
   "id": "a344299e",
   "metadata": {
    "scrolled": false
   },
   "outputs": [],
   "source": [
    "centroids = pca.groupby('cluster').mean()\n",
    "\n",
    "# Grafica los puntos y los centroides\n",
    "plt.figure(figsize=[16, 8])\n",
    "sns.scatterplot(x='pc1', y='pc2', hue='cluster', data=pca, palette='Set1')\n",
    "plt.scatter(centroids['pc1'], centroids['pc2'], marker='X', s=200, c='black', label='Centroides')\n",
    "plt.legend()\n",
    "plt.show()"
   ]
  },
  {
   "cell_type": "code",
   "execution_count": null,
   "id": "5f4f4027",
   "metadata": {
    "scrolled": true
   },
   "outputs": [],
   "source": [
    "fig = plt.figure(figsize=(12, 8))\n",
    "ax = fig.add_subplot(111, projection='3d')\n",
    "ax.scatter(pca['pc1'], pca['pc2'], c=pca['cluster'], cmap='Set1', s=100)\n",
    "plt.show()"
   ]
  },
  {
   "cell_type": "code",
   "execution_count": null,
   "id": "bd0444c5",
   "metadata": {},
   "outputs": [],
   "source": [
    "sns.pairplot(pca, hue='cluster', palette='Set1')\n",
    "plt.show()"
   ]
  },
  {
   "cell_type": "code",
   "execution_count": null,
   "id": "d13e2a30",
   "metadata": {},
   "outputs": [],
   "source": [
    "sns.kdeplot(data=pca, x='pc1', y='pc2', hue='cluster', fill=True, cmap='Set1')\n",
    "plt.show()"
   ]
  },
  {
   "cell_type": "code",
   "execution_count": null,
   "id": "10392cf7",
   "metadata": {},
   "outputs": [],
   "source": [
    "df_total.groupby('cluster').mean().plot(kind='bar', figsize=(20,20))\n",
    "plt.title('Valores medios por pedido en cada clúster')\n",
    "plt.xlabel(u'Número de clúster')\n",
    "_ = plt.ylabel('Valores medios por pedido')"
   ]
  },
  {
   "cell_type": "code",
   "execution_count": null,
   "id": "d0ad86b6",
   "metadata": {
    "scrolled": false
   },
   "outputs": [],
   "source": [
    "df_total[:6]"
   ]
  }
 ],
 "metadata": {
  "kernelspec": {
   "display_name": "Python 3 (ipykernel)",
   "language": "python",
   "name": "python3"
  },
  "language_info": {
   "codemirror_mode": {
    "name": "ipython",
    "version": 3
   },
   "file_extension": ".py",
   "mimetype": "text/x-python",
   "name": "python",
   "nbconvert_exporter": "python",
   "pygments_lexer": "ipython3",
   "version": "3.10.9"
  }
 },
 "nbformat": 4,
 "nbformat_minor": 5
}
